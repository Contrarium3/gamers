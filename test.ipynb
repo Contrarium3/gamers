{
 "cells": [
  {
   "cell_type": "code",
   "execution_count": 19,
   "id": "bcaf642d",
   "metadata": {},
   "outputs": [
    {
     "name": "stdout",
     "output_type": "stream",
     "text": [
      "\n",
      "Total posts in all data.json files: 4652\n"
     ]
    }
   ],
   "source": [
    "import os\n",
    "import json\n",
    "\n",
    "def count_total_posts(data_dir):\n",
    "    total_posts = 0\n",
    "    for root, dirs, files in os.walk(data_dir):\n",
    "        if 'data.json' in files:\n",
    "            data_path = os.path.join(root, 'data.json')\n",
    "            with open(data_path, 'r', encoding='utf-8') as f:\n",
    "                try:\n",
    "                    data = json.load(f)\n",
    "                    post_count = len(data.get('posts', []))\n",
    "                    # print(f\"{data_path}: {post_count} posts\")\n",
    "                    total_posts += post_count\n",
    "                except Exception as e:\n",
    "                    print(f\"Error reading {data_path}: {e}\")\n",
    "    return total_posts\n",
    "\n",
    "data_directory = 'Data'  # or absolute path if needed\n",
    "total = count_total_posts(data_directory)\n",
    "print(f\"\\nTotal posts in all data.json files: {total}\")\n"
   ]
  },
  {
   "cell_type": "code",
   "execution_count": 20,
   "id": "3de4cb1d",
   "metadata": {},
   "outputs": [
    {
     "data": {
      "text/plain": [
       "1016"
      ]
     },
     "execution_count": 20,
     "metadata": {},
     "output_type": "execute_result"
    }
   ],
   "source": [
    "import os\n",
    "\n",
    "def count_subfolders(data_dir):\n",
    "    length = 0\n",
    "    for folder_name in os.listdir(data_dir):\n",
    "        folder_path = os.path.join(data_dir, folder_name)\n",
    "        if os.path.isdir(folder_path):\n",
    "            subfolders = [\n",
    "                d for d in os.listdir(folder_path)\n",
    "                if os.path.isdir(os.path.join(folder_path, d))\n",
    "            ]\n",
    "            length += len(subfolders)\n",
    "            # print(f\"{folder_name}: {len(subfolders)} subfolders\")\n",
    "    return length\n",
    "\n",
    "data_directory = 'Data'\n",
    "count_subfolders(data_directory)\n"
   ]
  }
 ],
 "metadata": {
  "kernelspec": {
   "display_name": "gamers-uqOgTr1v-py3.11",
   "language": "python",
   "name": "python3"
  },
  "language_info": {
   "codemirror_mode": {
    "name": "ipython",
    "version": 3
   },
   "file_extension": ".py",
   "mimetype": "text/x-python",
   "name": "python",
   "nbconvert_exporter": "python",
   "pygments_lexer": "ipython3",
   "version": "3.11.11"
  }
 },
 "nbformat": 4,
 "nbformat_minor": 5
}
